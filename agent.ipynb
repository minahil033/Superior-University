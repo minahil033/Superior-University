{
 "cells": [
  {
   "cell_type": "code",
   "execution_count": 1,
   "metadata": {},
   "outputs": [
    {
     "name": "stdout",
     "output_type": "stream",
     "text": [
      "Living Room: Current temp= 1°C. Turn on heater\n",
      "Bedroom: Current temp= 33°C. Turn off heater\n",
      "Kitchen: Current temp= 19°C. Turn on heater\n",
      "Bathroom: Current temp= 29°C. Turn off heater\n"
     ]
    }
   ],
   "source": [
    "class ModelBasedReflexAgent:\n",
    "    def __init__(self, desired_temperature):\n",
    "        self.desired_temperature = desired_temperature\n",
    "        self.previous_action = None \n",
    "\n",
    "    def perceive(self, current_temperature):\n",
    "        return current_temperature\n",
    "\n",
    "    def act(self, current_temperature):\n",
    "        if current_temperature < self.desired_temperature:\n",
    "            if self.previous_action != \"heater turn on\":\n",
    "                action = \"Turn on heater\"\n",
    "                self.previous_action = action\n",
    "            else:\n",
    "                action = \"no action\"  \n",
    "        else:\n",
    "            if self.previous_action != \"heater turn off\":\n",
    "                action = \"Turn off heater\"\n",
    "                self.previous_action = action\n",
    "            else:\n",
    "                action = \"No action\"  \n",
    "        return action\n",
    "rooms = {\n",
    "    \"Living Room\": 1,\n",
    "    \"Bedroom\": 33,\n",
    "    \"Kitchen\": 19,\n",
    "    \"Bathroom\": 29\n",
    "}\n",
    "desired_temperature = 22\n",
    "agent = ModelBasedReflexAgent(desired_temperature)\n",
    "\n",
    "for room, temperature in rooms.items():\n",
    "    action = agent.act(temperature)\n",
    "    print(f\"{room}: Current temp= {temperature}°C. {action}\")\n"
   ]
  },
  {
   "cell_type": "code",
   "execution_count": null,
   "metadata": {},
   "outputs": [],
   "source": []
  }
 ],
 "metadata": {
  "kernelspec": {
   "display_name": "Python 3",
   "language": "python",
   "name": "python3"
  },
  "language_info": {
   "codemirror_mode": {
    "name": "ipython",
    "version": 3
   },
   "file_extension": ".py",
   "mimetype": "text/x-python",
   "name": "python",
   "nbconvert_exporter": "python",
   "pygments_lexer": "ipython3",
   "version": "3.12.4"
  }
 },
 "nbformat": 4,
 "nbformat_minor": 2
}
