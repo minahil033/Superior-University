{
 "cells": [
  {
   "cell_type": "code",
   "execution_count": 4,
   "metadata": {},
   "outputs": [
    {
     "name": "stdout",
     "output_type": "stream",
     "text": [
      "Average budget: 190500000.0\n",
      "Pirates of the Caribbean: On Stranger Tides has a budget of 379000000, which is 188500000.0 higher than average.\n",
      "Avengers: Age of Ultron has a budget of 365000000, which is 174500000.0 higher than average.\n",
      "Avengers: Endgame has a budget of 356000000, which is 165500000.0 higher than average.\n",
      "Incredibles 2 has a budget of 200000000, which is 9500000.0 higher than average.\n",
      "Number of movies with a budget higher than the average: 4\n",
      "\n",
      "Updated average budget of movies is: 148185939.55555555\n",
      "Pirates of the Caribbean: On Stranger Tides has a budget of 379000000, which is 230814060.44444445 higher than average.\n",
      "Avengers: Age of Ultron has a budget of 365000000, which is 216814060.44444445 higher than average.\n",
      "Avengers: Endgame has a budget of 356000000, which is 207814060.44444445 higher than average.\n",
      "Incredibles 2 has a budget of 200000000, which is 51814060.44444445 higher than average.\n",
      "Total number of movies with a budget higher than the average: 4\n"
     ]
    }
   ],
   "source": [
    "movies = [\n",
    "    (\"Eternal Sunshine of the Spotless Mind\", 20000000),\n",
    "    (\"Memento\", 9000000),\n",
    "    (\"Requiem for a Dream\", 4500000),\n",
    "    (\"Pirates of the Caribbean: On Stranger Tides\", 379000000),\n",
    "    (\"Avengers: Age of Ultron\", 365000000),\n",
    "    (\"Avengers: Endgame\", 356000000),\n",
    "    (\"Incredibles 2\", 200000000)\n",
    "]\n",
    "total_budget = sum(budget for _, budget in movies)\n",
    "average_budget = total_budget / len(movies)\n",
    "\n",
    "print(\"Average budget:\", average_budget)\n",
    "high_budget_movies = []\n",
    "for movie, budget in movies:\n",
    "    if budget > average_budget:\n",
    "        difference = budget - average_budget\n",
    "        high_budget_movies.append((movie, difference))\n",
    "        print(f\"{movie} has a budget of {budget}, which is {difference} higher than average.\")\n",
    "\n",
    "print(\"movie budget higher than the average\", len(high_budget_movies))\n",
    "num_movies_to_add = int(input(\"How many movies you  add? \"))\n",
    "for _ in range(num_movies_to_add):\n",
    "    movie_name = input(\"Enter the movie name: \")\n",
    "    movie_budget = int(input(\"Enter the movie budget \"))\n",
    "    movies.append((movie_name, movie_budget))  \n",
    "total_budget = sum(budget for _, budget in movies)\n",
    "average_budget = total_budget / len(movies)\n",
    "print(\"Updated  budget of movies is:\", average_budget)\n",
    "high_budget_movies = []\n",
    "for movie, budget in movies:\n",
    "    if budget > average_budget:\n",
    "        difference = budget - average_budget\n",
    "        high_budget_movies.append((movie, difference))\n",
    "        print(f\"{movie} has a budget of {budget}, which is {difference} higher than average.\")\n",
    "print(\"Total number of movies\", len(high_budget_movies))\n"
   ]
  }
 ],
 "metadata": {
  "kernelspec": {
   "display_name": "Python 3",
   "language": "python",
   "name": "python3"
  },
  "language_info": {
   "codemirror_mode": {
    "name": "ipython",
    "version": 3
   },
   "file_extension": ".py",
   "mimetype": "text/x-python",
   "name": "python",
   "nbconvert_exporter": "python",
   "pygments_lexer": "ipython3",
   "version": "3.12.4"
  }
 },
 "nbformat": 4,
 "nbformat_minor": 2
}
