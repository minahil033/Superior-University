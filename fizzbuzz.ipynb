{
 "cells": [
  {
   "cell_type": "code",
   "execution_count": 3,
   "metadata": {},
   "outputs": [
    {
     "name": "stdout",
     "output_type": "stream",
     "text": [
      "1\n",
      "2\n",
      "fizz\n",
      "4\n",
      "buzz\n",
      "fizz\n",
      "7\n",
      "8\n",
      "fizz\n",
      "buzz\n",
      "11\n",
      "fizz\n",
      "13\n",
      "14\n",
      "fizz buzz\n"
     ]
    }
   ],
   "source": [
    "limit=int(input(\"enter number for fizz buzz\"))\n",
    "for num in range(1,limit+1):\n",
    "    if num%3==0 and num%5==0:\n",
    "        print(\"fizz buzz\")\n",
    "    elif num%3==0:\n",
    "        print(\"fizz\")\n",
    "    elif num%5==0:\n",
    "        print(\"buzz\")\n",
    "    else:\n",
    "        print(num)"
   ]
  },
  {
   "cell_type": "code",
   "execution_count": null,
   "metadata": {},
   "outputs": [],
   "source": [
    "\n",
    "using namespace std;\n",
    "\n",
    "int main() {\n",
    "    int num1, num2;\n",
    "    \n",
    "    // Input two integers\n",
    "    cout << \"Enter first integer: \";\n",
    "    cin >> num1;\n",
    "    cout << \"Enter second integer: \";\n",
    "    cin >> num2;\n",
    "\n",
    "    int sum = num1 + num2;\n",
    "    int difference = num1 - num2;\n",
    "    int product = num1 * num2;\n",
    "    if (num2 != 0) {\n",
    "        double quotient = static_cast<double>(num1) / num2;\n",
    "        int modulus = num1 % num2;\n",
    "        cout << \"Sum: \" << sum << endl;\n",
    "        cout << \"Difference: \" << difference << endl;\n",
    "        cout << \"Product: \" << product << endl;\n",
    "        cout << \"Quotient: \" << quotient << endl;\n",
    "        cout << \"Modulus: \" << modulus << endl;\n",
    "    } else {\n",
    "        cout << \"not divided by zero.\" << endl;\n",
    "    }\n",
    "\n",
    "    return 0;\n",
    "}\n"
   ]
  }
 ],
 "metadata": {
  "kernelspec": {
   "display_name": "Python 3",
   "language": "python",
   "name": "python3"
  },
  "language_info": {
   "codemirror_mode": {
    "name": "ipython",
    "version": 3
   },
   "file_extension": ".py",
   "mimetype": "text/x-python",
   "name": "python",
   "nbconvert_exporter": "python",
   "pygments_lexer": "ipython3",
   "version": "3.12.4"
  }
 },
 "nbformat": 4,
 "nbformat_minor": 2
}
