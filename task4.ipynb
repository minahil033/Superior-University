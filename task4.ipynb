{
 "cells": [
  {
   "cell_type": "markdown",
   "metadata": {},
   "source": [
    "# task1 "
   ]
  },
  {
   "cell_type": "code",
   "execution_count": 8,
   "metadata": {},
   "outputs": [
    {
     "name": "stdout",
     "output_type": "stream",
     "text": [
      "card is valid\n",
      "card is valid\n"
     ]
    }
   ],
   "source": [
    "class luhn_algo:\n",
    "    def __init__(self,card_num):\n",
    "        self.card_num=card_num\n",
    "    def validate(self):\n",
    "        card_num=list(self.card_num)\n",
    "        last_digit=card_num.pop()\n",
    "        card_num.reverse()\n",
    "        for i in range(len(card_num)):\n",
    "            if i%2==0:\n",
    "                f=int(card_num[i])*2\n",
    "                card_num[i]=str(f)\n",
    "        for i in range(len(card_num)):\n",
    "            if int(card_num[i])>9:\n",
    "                card_num[i]=str(int(card_num[i])-9)\n",
    "        total_sum=sum(int(number)for number in card_num)+int(last_digit)\n",
    "        if total_sum%10==0:\n",
    "            print(\"card is valid\")\n",
    "        else:\n",
    "            print(\"card is valid\")\n",
    "m=luhn_algo(\"5893564335457654\")\n",
    "u=luhn_algo(\"2478634518566743\")\n",
    "m.validate()\n",
    "u.validate()"
   ]
  },
  {
   "cell_type": "markdown",
   "metadata": {},
   "source": [
    "# task 2\n"
   ]
  },
  {
   "cell_type": "code",
   "execution_count": 12,
   "metadata": {},
   "outputs": [
    {
     "name": "stdout",
     "output_type": "stream",
     "text": [
      "minahil imran\n"
     ]
    }
   ],
   "source": [
    "def remove_punctuation(txt):\n",
    "    punctuation = \"!()\\\"#$%&'()*+,-./:;<=>?\\\\^_`{|}~\"\n",
    "    result = ''\n",
    "    for char in txt:\n",
    "        if char not in punctuation:\n",
    "            result+=char\n",
    "    return result\n",
    "txt=\"minahil !,imra+n\"\n",
    "remove=remove_punctuation(txt)\n",
    "print(remove)\n"
   ]
  },
  {
   "cell_type": "markdown",
   "metadata": {},
   "source": [
    "# task 3"
   ]
  },
  {
   "cell_type": "code",
   "execution_count": 14,
   "metadata": {},
   "outputs": [
    {
     "name": "stdout",
     "output_type": "stream",
     "text": [
      "Original Text:minahil\n",
      "Sorted Text :ahiilmn\n"
     ]
    }
   ],
   "source": [
    "def sort(txt):\n",
    "    char=list(txt)\n",
    "    for j in range(len(char)-1):\n",
    "        for i in range(len(char)-1):\n",
    "            if char[i]>char[i+1]:\n",
    "                char[i],char[i+1]=char[i+1],char[i]\n",
    "    sorted_text=\"\".join(char)\n",
    "    return sorted_text\n",
    "txt=\"minahil\"\n",
    "print(f\"Original Text:{txt}\")\n",
    "print(f\"Sorted Text :{sort(txt)}\")\n",
    "\n"
   ]
  },
  {
   "cell_type": "code",
   "execution_count": null,
   "metadata": {},
   "outputs": [],
   "source": []
  }
 ],
 "metadata": {
  "kernelspec": {
   "display_name": "Python 3",
   "language": "python",
   "name": "python3"
  },
  "language_info": {
   "codemirror_mode": {
    "name": "ipython",
    "version": 3
   },
   "file_extension": ".py",
   "mimetype": "text/x-python",
   "name": "python",
   "nbconvert_exporter": "python",
   "pygments_lexer": "ipython3",
   "version": "3.12.4"
  }
 },
 "nbformat": 4,
 "nbformat_minor": 2
}
