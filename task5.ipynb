{
 "cells": [
  {
   "cell_type": "markdown",
   "metadata": {},
   "source": [
    "# DFS with Stack & Node"
   ]
  },
  {
   "cell_type": "code",
   "execution_count": 5,
   "metadata": {},
   "outputs": [
    {
     "name": "stdout",
     "output_type": "stream",
     "text": [
      "1\n",
      "2\n",
      "4\n",
      "3\n"
     ]
    }
   ],
   "source": [
    "class Node:\n",
    "    def __init__(self, value):\n",
    "        self.value = value\n",
    "        self.childs= []\n",
    "\n",
    "def dfs_withstack(root):\n",
    "    if root is None:\n",
    "        return\n",
    "\n",
    "    stack = [root] \n",
    "    \n",
    "    while stack:\n",
    "        node = stack.pop()  \n",
    "        print(node.value) \n",
    "        for child in reversed(node.childs):\n",
    "            stack.append(child)\n",
    "\n",
    "root = Node(1)\n",
    "root.childs.append(Node(2))\n",
    "root.childs.append(Node(3))\n",
    "root.childs[0].childs.append(Node(4))\n",
    "dfs_withstack(root)\n"
   ]
  },
  {
   "cell_type": "markdown",
   "metadata": {},
   "source": [
    "# Inorder, Preorder, Postorder DFS\n",
    "\n",
    "Preorder: Visit the root, then left, then right.\n",
    "Inorder: Visit left, then root, then right.\n",
    "Postorder: Visit left, then right, then root."
   ]
  },
  {
   "cell_type": "code",
   "execution_count": 8,
   "metadata": {},
   "outputs": [
    {
     "name": "stdout",
     "output_type": "stream",
     "text": [
      "Preorder:\n",
      "1\n",
      "5\n",
      "3\n",
      "Inorder:\n",
      "5\n",
      "1\n",
      "3\n",
      "Postorder:\n",
      "5\n",
      "3\n",
      "1\n"
     ]
    }
   ],
   "source": [
    "class treenode:\n",
    "    def __init__(self, value):\n",
    "        self.value = value\n",
    "        self.left = None  \n",
    "        self.right = None \n",
    "\n",
    "def preorder(node):\n",
    "    if node:\n",
    "        print(node.value) \n",
    "        preorder(node.left)  \n",
    "        preorder(node.right)  \n",
    "\n",
    "def inorder(node):\n",
    "    if node:\n",
    "        inorder(node.left)\n",
    "        print(node.value) \n",
    "        inorder(node.right)  \n",
    "\n",
    "def postorder(node):\n",
    "    if node:\n",
    "        postorder(node.left)  \n",
    "        postorder(node.right) \n",
    "        print(node.value)  \n",
    "root = treenode(1)\n",
    "root.left = treenode(5)\n",
    "root.right = treenode(3)\n",
    "\n",
    "print(\"Preorder:\")\n",
    "preorder(root)\n",
    "\n",
    "print(\"Inorder:\")\n",
    "inorder(root)\n",
    "\n",
    "print(\"Postorder:\")\n",
    "postorder(root)\n"
   ]
  }
 ],
 "metadata": {
  "kernelspec": {
   "display_name": "Python 3",
   "language": "python",
   "name": "python3"
  },
  "language_info": {
   "codemirror_mode": {
    "name": "ipython",
    "version": 3
   },
   "file_extension": ".py",
   "mimetype": "text/x-python",
   "name": "python",
   "nbconvert_exporter": "python",
   "pygments_lexer": "ipython3",
   "version": "3.12.4"
  }
 },
 "nbformat": 4,
 "nbformat_minor": 2
}
