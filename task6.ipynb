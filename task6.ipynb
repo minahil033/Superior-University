{
 "cells": [
  {
   "cell_type": "markdown",
   "metadata": {},
   "source": [
    "# BFS without Queue & without Node\n"
   ]
  },
  {
   "cell_type": "code",
   "execution_count": 3,
   "metadata": {},
   "outputs": [],
   "source": [
    "def bfs_without_queue(root):\n",
    "    if not root:\n",
    "        return\n",
    "    current_lvl = [root] \n",
    "    \n",
    "    while current_lvl:\n",
    "        next_lvl = [] \n",
    "        for node in current_lvl:\n",
    "            print(node.value) \n",
    "            next_lvl.extend(node.children) \n",
    "        \n",
    "        current_lvl = next_lvl \n"
   ]
  },
  {
   "cell_type": "markdown",
   "metadata": {},
   "source": [
    "# BFS with Queue & Node"
   ]
  },
  {
   "cell_type": "code",
   "execution_count": 5,
   "metadata": {},
   "outputs": [
    {
     "name": "stdout",
     "output_type": "stream",
     "text": [
      "4\n",
      "2\n",
      "6\n",
      "8\n"
     ]
    }
   ],
   "source": [
    "class Node:\n",
    "    def __init__(self, value):\n",
    "        self.value = value\n",
    "        self.children = []\n",
    "\n",
    "def bfs_with_list(root):\n",
    "    if root is None:\n",
    "        return\n",
    "    queue = [root] \n",
    "\n",
    "    while queue:\n",
    "        node = queue.pop(0)  \n",
    "        print(node.value) \n",
    "        for child in node.children:\n",
    "            queue.append(child)  \n",
    "root = Node(4)\n",
    "root.children.append(Node(2))\n",
    "root.children.append(Node(6))\n",
    "    \n",
    "root.children[0].children.append(Node(8)) \n",
    "\n",
    "bfs_with_list(root)\n"
   ]
  },
  {
   "cell_type": "code",
   "execution_count": null,
   "metadata": {},
   "outputs": [],
   "source": []
  }
 ],
 "metadata": {
  "kernelspec": {
   "display_name": "Python 3",
   "language": "python",
   "name": "python3"
  },
  "language_info": {
   "codemirror_mode": {
    "name": "ipython",
    "version": 3
   },
   "file_extension": ".py",
   "mimetype": "text/x-python",
   "name": "python",
   "nbconvert_exporter": "python",
   "pygments_lexer": "ipython3",
   "version": "3.12.4"
  }
 },
 "nbformat": 4,
 "nbformat_minor": 2
}
