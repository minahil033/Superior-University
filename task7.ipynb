{
 "cells": [
  {
   "cell_type": "code",
   "execution_count": 5,
   "metadata": {},
   "outputs": [],
   "source": [
    "def a_star(graph, start, goal):\n",
    "    open_list = [start]  \n",
    "    closed_list = []     \n",
    "    g_cost = {start: 0}\n",
    "    came_from = {start: None}\n",
    "    \n",
    "    while open_list:\n",
    "        current = get_lowestnode(open_list, g_cost)\n",
    "        \n",
    "        if current == goal:\n",
    "            path = []\n",
    "            while current:\n",
    "                path.append(current)\n",
    "                current = came_from[current]\n",
    "            return path[::-1]  \n",
    "        \n",
    "        open_list.remove(current)\n",
    "        closed_list.append(current)\n",
    "\n",
    "        for neighbor, move_cost in graph.get(current, []):\n",
    "            if neighbor in closed_list:\n",
    "                continue\n",
    "            \n",
    "            tentative_g_cost = g_cost[current] + move_cost\n",
    "            \n",
    "            if neighbor not in open_list:\n",
    "                open_list.append(neighbor)\n",
    "            elif tentative_g_cost >= g_cost.get(neighbor, float('inf')):\n",
    "                continue\n",
    "            \n",
    "            came_from[neighbor] = current\n",
    "            g_cost[neighbor] = tentative_g_cost\n",
    "    \n",
    "    return None "
   ]
  },
  {
   "cell_type": "code",
   "execution_count": 6,
   "metadata": {},
   "outputs": [
    {
     "name": "stdout",
     "output_type": "stream",
     "text": [
      "Path found: [(0, 0), (0, 1), (1, 1), (2, 1)]\n"
     ]
    }
   ],
   "source": [
    "def get_lowestnode(open_list, g_cost):\n",
    "    lowest_node = None\n",
    "    lowest_cost = float('inf')\n",
    "    \n",
    "    for node in open_list:\n",
    "        if g_cost[node] < lowest_cost:\n",
    "            lowest_cost = g_cost[node]\n",
    "            lowest_node = node\n",
    "    return lowest_node\n",
    "graph = {\n",
    "    (0, 0): [((0, 1), 1), ((1, 0), 1)],\n",
    "    (0, 1): [((0, 0), 1), ((1, 1), 1)],\n",
    "    (1, 0): [((0, 0), 1), ((1, 1), 1), ((2, 0), 1)],\n",
    "    (1, 1): [((0, 1), 1), ((1, 0), 1), ((2, 1), 1)],\n",
    "    (2, 0): [((1, 0), 1), ((2, 1), 1)],\n",
    "    (2, 1): [((2, 0), 1), ((1, 1), 1)]\n",
    "}\n",
    "start = (0, 0)\n",
    "goal = (2, 1)\n",
    "path = a_star(graph, start, goal)\n",
    "\n",
    "if path:\n",
    "    print(\"Path found:\", path)\n",
    "else:\n",
    "    print(\"No path found\")"
   ]
  }
 ],
 "metadata": {
  "kernelspec": {
   "display_name": "Python 3",
   "language": "python",
   "name": "python3"
  },
  "language_info": {
   "codemirror_mode": {
    "name": "ipython",
    "version": 3
   },
   "file_extension": ".py",
   "mimetype": "text/x-python",
   "name": "python",
   "nbconvert_exporter": "python",
   "pygments_lexer": "ipython3",
   "version": "3.12.4"
  }
 },
 "nbformat": 4,
 "nbformat_minor": 2
}
