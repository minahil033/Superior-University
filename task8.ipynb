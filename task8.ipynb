{
 "cells": [
  {
   "cell_type": "markdown",
   "metadata": {},
   "source": [
    "# min max algorithm"
   ]
  },
  {
   "cell_type": "code",
   "execution_count": 3,
   "metadata": {},
   "outputs": [
    {
     "name": "stdout",
     "output_type": "stream",
     "text": [
      "The best value is: inf\n"
     ]
    }
   ],
   "source": [
    "def minimax(node, depth, maximizing_player):\n",
    "    if depth == 0 or terminal(node):\n",
    "        return evaluate(node)\n",
    "    if maximizing_player:\n",
    "        max_value = float('-inf')\n",
    "        for child in generate_children(node):\n",
    "            value = minimax(child, depth - 1, False)\n",
    "            max_value = max(max_value, value)\n",
    "        return max_value\n",
    "    else:\n",
    "        min_val = float('inf')\n",
    "        for child in generate_children(node):\n",
    "            value = minimax(child, depth - 1, True)\n",
    "            min_value = min(min_val, value)\n",
    "        return min_val\n",
    "\n",
    "def terminal(node):\n",
    "    return node in [10,-10]  \n",
    "\n",
    "def evaluate(node):\n",
    "    return node \n",
    "\n",
    "def generate_children(node):\n",
    "    childern= []\n",
    "    if node <10:\n",
    "        childern.append(node +1)\n",
    "        childern.append(node -1)\n",
    "    return childern  \n",
    "initial_state = 0  \n",
    "search_depth = 7    \n",
    "optimal_value = minimax(initial_state, search_depth, True)\n",
    "print(\"The best value is:\", optimal_value)\n"
   ]
  },
  {
   "cell_type": "code",
   "execution_count": null,
   "metadata": {},
   "outputs": [],
   "source": []
  }
 ],
 "metadata": {
  "kernelspec": {
   "display_name": "Python 3",
   "language": "python",
   "name": "python3"
  },
  "language_info": {
   "codemirror_mode": {
    "name": "ipython",
    "version": 3
   },
   "file_extension": ".py",
   "mimetype": "text/x-python",
   "name": "python",
   "nbconvert_exporter": "python",
   "pygments_lexer": "ipython3",
   "version": "3.12.4"
  }
 },
 "nbformat": 4,
 "nbformat_minor": 2
}
